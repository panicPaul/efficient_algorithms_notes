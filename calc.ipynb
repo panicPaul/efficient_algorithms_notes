{
 "cells": [
  {
   "cell_type": "code",
   "execution_count": 1,
   "metadata": {},
   "outputs": [],
   "source": [
    "import numpy as np"
   ]
  },
  {
   "cell_type": "code",
   "execution_count": 10,
   "metadata": {},
   "outputs": [],
   "source": [
    "def h1(x):\n",
    "    return np.mod(np.mod((4*x + 7), 17), 9)\n",
    "\n",
    "\n",
    "def h2(x):\n",
    "    return np.mod(np.mod((3*x + 4), 19), 9)"
   ]
  },
  {
   "cell_type": "code",
   "execution_count": 18,
   "metadata": {},
   "outputs": [
    {
     "name": "stdout",
     "output_type": "stream",
     "text": [
      "h_1(x) = 2\n",
      "h_2(x) = 1\n"
     ]
    }
   ],
   "source": [
    "x = 18\n",
    "\n",
    "print(f'h_1(x) = {h1(x)}')\n",
    "print(f'h_2(x) = {h2(x)}')"
   ]
  },
  {
   "cell_type": "code",
   "execution_count": null,
   "metadata": {},
   "outputs": [],
   "source": []
  }
 ],
 "metadata": {
  "kernelspec": {
   "display_name": "Python 3",
   "language": "python",
   "name": "python3"
  },
  "language_info": {
   "codemirror_mode": {
    "name": "ipython",
    "version": 3
   },
   "file_extension": ".py",
   "mimetype": "text/x-python",
   "name": "python",
   "nbconvert_exporter": "python",
   "pygments_lexer": "ipython3",
   "version": "3.10.15"
  }
 },
 "nbformat": 4,
 "nbformat_minor": 2
}
